{
 "cells": [
  {
   "cell_type": "code",
   "execution_count": null,
   "metadata": {},
   "outputs": [],
   "source": [
    "- welcome to ~**data analysis**~ workshop"
   ]
  },
  {
   "cell_type": "markdown",
   "metadata": {},
   "source": [
    "<img src=\"https://th.bing.com/th/id/OIP.KdJZd9ICD5Pj6XcJ2HMvkAHaE8?pid=ImgDet&rs=1\" height=200 width=150 >"
   ]
  },
  {
   "cell_type": "markdown",
   "metadata": {},
   "source": [
    "[nec](http://apssdc.in)"
   ]
  },
  {
   "cell_type": "markdown",
   "metadata": {},
   "source": [
    "## Files"
   ]
  },
  {
   "cell_type": "markdown",
   "metadata": {},
   "source": [
    "- open(filename,modes)\n",
    "- read()\n",
    "- write()\n",
    "- readlines()\n",
    "- close()\n",
    "- modes read-r,write-w,append"
   ]
  },
  {
   "cell_type": "code",
   "execution_count": 4,
   "metadata": {},
   "outputs": [],
   "source": [
    "f= open('data.txt','w')\n",
    "data = \"welcome to nec\" \n",
    "f.write(data)\n",
    "f.close()"
   ]
  },
  {
   "cell_type": "code",
   "execution_count": 16,
   "metadata": {},
   "outputs": [
    {
     "name": "stdout",
     "output_type": "stream",
     "text": [
      "welcome to nec\n"
     ]
    }
   ],
   "source": [
    "f=open('data.txt','r')\n",
    "d=f.read()\n",
    "print(d)"
   ]
  },
  {
   "cell_type": "code",
   "execution_count": 17,
   "metadata": {},
   "outputs": [],
   "source": [
    "f=open('data.txt','a')\n",
    "s=\"vamsi\"\n",
    "f.write(s)\n",
    "f.close()"
   ]
  },
  {
   "cell_type": "code",
   "execution_count": 22,
   "metadata": {},
   "outputs": [
    {
     "name": "stdout",
     "output_type": "stream",
     "text": [
      "raju 45 45 22\n",
      "ravi 45 41 44\n",
      "vamsi 48 48 44\n"
     ]
    }
   ],
   "source": [
    "f=open('marks.txt','r')\n",
    "d=f.read()\n",
    "print(d)"
   ]
  },
  {
   "cell_type": "code",
   "execution_count": 25,
   "metadata": {},
   "outputs": [],
   "source": [
    "f=open('marks.txt','a')\n",
    "s=\"\\nraju 48 48 22\"\n",
    "f.write(s)\n",
    "f.close()"
   ]
  },
  {
   "cell_type": "code",
   "execution_count": 27,
   "metadata": {},
   "outputs": [
    {
     "name": "stdout",
     "output_type": "stream",
     "text": [
      "raju 45 45 22\n",
      "ravi 45 41 44\n",
      "vamsi 48 48 44\n",
      "raju 48 48 22\n"
     ]
    }
   ],
   "source": [
    "f=open('marks.txt')\n",
    "d=f.read()\n",
    "print(d)"
   ]
  },
  {
   "cell_type": "code",
   "execution_count": 38,
   "metadata": {},
   "outputs": [
    {
     "name": "stdout",
     "output_type": "stream",
     "text": [
      "['raju 45 45 22\\n', 'ravi 45 41 44\\n', 'vamsi 48 48 44\\n', 'raju 48 48 22']\n",
      "raju  112\n",
      "ravi  130\n",
      "vamsi  140\n",
      "raju  118\n"
     ]
    }
   ],
   "source": [
    "f=open('marks.txt')\n",
    "f2=open('totalmarks.txt','w')\n",
    "d=f.readlines()\n",
    "print(d)\n",
    "for i in d:\n",
    "    words=i.split()\n",
    "    name=words[0]\n",
    "    total=sum(list(map(int,words[1:])))\n",
    "    print(name,\"\",total)\n",
    "    f2.write(name+\" \"+str(total)+\"\\n\")\n",
    "f2.close()"
   ]
  },
  {
   "cell_type": "code",
   "execution_count": null,
   "metadata": {},
   "outputs": [],
   "source": []
  }
 ],
 "metadata": {
  "kernelspec": {
   "display_name": "Python 3",
   "language": "python",
   "name": "python3"
  },
  "language_info": {
   "codemirror_mode": {
    "name": "ipython",
    "version": 3
   },
   "file_extension": ".py",
   "mimetype": "text/x-python",
   "name": "python",
   "nbconvert_exporter": "python",
   "pygments_lexer": "ipython3",
   "version": "3.8.5"
  }
 },
 "nbformat": 4,
 "nbformat_minor": 4
}
